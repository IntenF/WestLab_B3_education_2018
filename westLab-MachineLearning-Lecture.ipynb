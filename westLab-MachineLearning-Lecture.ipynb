{
 "cells": [
  {
   "cell_type": "markdown",
   "metadata": {},
   "source": [
    "## 注意"
   ]
  },
  {
   "cell_type": "markdown",
   "metadata": {},
   "source": [
    "このノートブックは**2018**年の西研教育のために作成されたものである。機械学習は移り変わりが激しい分野のためその年ごとに修正することをおすすめする（特にニューラルネットの項）。　2018年教育担当　中村太一"
   ]
  },
  {
   "cell_type": "markdown",
   "metadata": {},
   "source": [
    "# 目次"
   ]
  },
  {
   "cell_type": "markdown",
   "metadata": {},
   "source": [
    "1. 目的\n",
    "2. 機械学習実践\n",
    "    1. データを用意（タイタニック号）\n",
    "    2. サポートベクトルマシン(SVM)\n",
    "    3. ランダムフォレスト(RF)\n",
    "    4. ニューラルネット(NN)\n",
    "    5. 学習器の出力の相関\n",
    "3. 学習器の特性\n",
    "    1. データを用意（生成データ）\n",
    "    1. サポートベクトルマシン(SVM)\n",
    "    2. ランダムフォレスト(RF)\n",
    "    3. ニューラルネット(NN)"
   ]
  },
  {
   "cell_type": "markdown",
   "metadata": {},
   "source": [
    "# 1.目的"
   ]
  },
  {
   "cell_type": "markdown",
   "metadata": {},
   "source": [
    "## 本講義では「機械学習を正しく使用する知識」の獲得を目的とします"
   ]
  },
  {
   "cell_type": "markdown",
   "metadata": {},
   "source": [
    "さっそく実践！！"
   ]
  },
  {
   "cell_type": "markdown",
   "metadata": {},
   "source": [
    "# 2.機械学習実践 "
   ]
  },
  {
   "cell_type": "markdown",
   "metadata": {},
   "source": [
    "ライブラリ読み込み"
   ]
  },
  {
   "cell_type": "code",
   "execution_count": 1,
   "metadata": {
    "collapsed": true
   },
   "outputs": [],
   "source": [
    "import pandas as pd\n",
    "import numpy as np\n",
    "import matplotlib.pyplot as plt\n",
    "import sklearn"
   ]
  },
  {
   "cell_type": "markdown",
   "metadata": {},
   "source": [
    "## A.データを用意（タイタニック号）"
   ]
  },
  {
   "cell_type": "markdown",
   "metadata": {},
   "source": [
    "<img src=\"https://upload.wikimedia.org/wikipedia/commons/6/6e/St%C3%B6wer_Titanic.jpg\" width=\"480px\">"
   ]
  },
  {
   "cell_type": "markdown",
   "metadata": {},
   "source": [
    "タイタニック号の生存者/死亡者データを読み込み(https://www.kaggle.com/c/titanic/data)"
   ]
  },
  {
   "cell_type": "code",
   "execution_count": 2,
   "metadata": {},
   "outputs": [
    {
     "name": "stdout",
     "output_type": "stream",
     "text": [
      "(891, 12)\n"
     ]
    },
    {
     "data": {
      "text/html": [
       "<div>\n",
       "<style>\n",
       "    .dataframe thead tr:only-child th {\n",
       "        text-align: right;\n",
       "    }\n",
       "\n",
       "    .dataframe thead th {\n",
       "        text-align: left;\n",
       "    }\n",
       "\n",
       "    .dataframe tbody tr th {\n",
       "        vertical-align: top;\n",
       "    }\n",
       "</style>\n",
       "<table border=\"1\" class=\"dataframe\">\n",
       "  <thead>\n",
       "    <tr style=\"text-align: right;\">\n",
       "      <th></th>\n",
       "      <th>PassengerId</th>\n",
       "      <th>Survived</th>\n",
       "      <th>Pclass</th>\n",
       "      <th>Name</th>\n",
       "      <th>Sex</th>\n",
       "      <th>Age</th>\n",
       "      <th>SibSp</th>\n",
       "      <th>Parch</th>\n",
       "      <th>Ticket</th>\n",
       "      <th>Fare</th>\n",
       "      <th>Cabin</th>\n",
       "      <th>Embarked</th>\n",
       "    </tr>\n",
       "  </thead>\n",
       "  <tbody>\n",
       "    <tr>\n",
       "      <th>0</th>\n",
       "      <td>1</td>\n",
       "      <td>0</td>\n",
       "      <td>3</td>\n",
       "      <td>Braund, Mr. Owen Harris</td>\n",
       "      <td>male</td>\n",
       "      <td>22.0</td>\n",
       "      <td>1</td>\n",
       "      <td>0</td>\n",
       "      <td>A/5 21171</td>\n",
       "      <td>7.2500</td>\n",
       "      <td>NaN</td>\n",
       "      <td>S</td>\n",
       "    </tr>\n",
       "    <tr>\n",
       "      <th>1</th>\n",
       "      <td>2</td>\n",
       "      <td>1</td>\n",
       "      <td>1</td>\n",
       "      <td>Cumings, Mrs. John Bradley (Florence Briggs Th...</td>\n",
       "      <td>female</td>\n",
       "      <td>38.0</td>\n",
       "      <td>1</td>\n",
       "      <td>0</td>\n",
       "      <td>PC 17599</td>\n",
       "      <td>71.2833</td>\n",
       "      <td>C85</td>\n",
       "      <td>C</td>\n",
       "    </tr>\n",
       "    <tr>\n",
       "      <th>2</th>\n",
       "      <td>3</td>\n",
       "      <td>1</td>\n",
       "      <td>3</td>\n",
       "      <td>Heikkinen, Miss. Laina</td>\n",
       "      <td>female</td>\n",
       "      <td>26.0</td>\n",
       "      <td>0</td>\n",
       "      <td>0</td>\n",
       "      <td>STON/O2. 3101282</td>\n",
       "      <td>7.9250</td>\n",
       "      <td>NaN</td>\n",
       "      <td>S</td>\n",
       "    </tr>\n",
       "    <tr>\n",
       "      <th>3</th>\n",
       "      <td>4</td>\n",
       "      <td>1</td>\n",
       "      <td>1</td>\n",
       "      <td>Futrelle, Mrs. Jacques Heath (Lily May Peel)</td>\n",
       "      <td>female</td>\n",
       "      <td>35.0</td>\n",
       "      <td>1</td>\n",
       "      <td>0</td>\n",
       "      <td>113803</td>\n",
       "      <td>53.1000</td>\n",
       "      <td>C123</td>\n",
       "      <td>S</td>\n",
       "    </tr>\n",
       "    <tr>\n",
       "      <th>4</th>\n",
       "      <td>5</td>\n",
       "      <td>0</td>\n",
       "      <td>3</td>\n",
       "      <td>Allen, Mr. William Henry</td>\n",
       "      <td>male</td>\n",
       "      <td>35.0</td>\n",
       "      <td>0</td>\n",
       "      <td>0</td>\n",
       "      <td>373450</td>\n",
       "      <td>8.0500</td>\n",
       "      <td>NaN</td>\n",
       "      <td>S</td>\n",
       "    </tr>\n",
       "  </tbody>\n",
       "</table>\n",
       "</div>"
      ],
      "text/plain": [
       "   PassengerId  Survived  Pclass  \\\n",
       "0            1         0       3   \n",
       "1            2         1       1   \n",
       "2            3         1       3   \n",
       "3            4         1       1   \n",
       "4            5         0       3   \n",
       "\n",
       "                                                Name     Sex   Age  SibSp  \\\n",
       "0                            Braund, Mr. Owen Harris    male  22.0      1   \n",
       "1  Cumings, Mrs. John Bradley (Florence Briggs Th...  female  38.0      1   \n",
       "2                             Heikkinen, Miss. Laina  female  26.0      0   \n",
       "3       Futrelle, Mrs. Jacques Heath (Lily May Peel)  female  35.0      1   \n",
       "4                           Allen, Mr. William Henry    male  35.0      0   \n",
       "\n",
       "   Parch            Ticket     Fare Cabin Embarked  \n",
       "0      0         A/5 21171   7.2500   NaN        S  \n",
       "1      0          PC 17599  71.2833   C85        C  \n",
       "2      0  STON/O2. 3101282   7.9250   NaN        S  \n",
       "3      0            113803  53.1000  C123        S  \n",
       "4      0            373450   8.0500   NaN        S  "
      ]
     },
     "execution_count": 2,
     "metadata": {},
     "output_type": "execute_result"
    }
   ],
   "source": [
    "titanic_data = pd.read_csv('train.csv')\n",
    "print(titanic_data.shape)\n",
    "titanic_data.head()"
   ]
  },
  {
   "cell_type": "markdown",
   "metadata": {},
   "source": [
    "このデータはタイタニック号の乗客の名前、性別、チケットのクラス等の情報と沈没による生存/死亡のデータで、乗客の情報から生存/死亡を予測したい"
   ]
  },
  {
   "cell_type": "markdown",
   "metadata": {},
   "source": [
    "使うデータの中で欠損値を含むものを削除する"
   ]
  },
  {
   "cell_type": "code",
   "execution_count": 3,
   "metadata": {},
   "outputs": [
    {
     "name": "stdout",
     "output_type": "stream",
     "text": [
      "(714, 6)\n"
     ]
    }
   ],
   "source": [
    "titanic_data = titanic_data[['Survived', 'Pclass', 'Age', 'SibSp', 'Parch', 'Fare']].dropna(axis=0)\n",
    "print(titanic_data.shape)"
   ]
  },
  {
   "cell_type": "markdown",
   "metadata": {},
   "source": [
    "実数値データだけ取り出してくる"
   ]
  },
  {
   "cell_type": "code",
   "execution_count": 4,
   "metadata": {},
   "outputs": [
    {
     "data": {
      "text/html": [
       "<div>\n",
       "<style>\n",
       "    .dataframe thead tr:only-child th {\n",
       "        text-align: right;\n",
       "    }\n",
       "\n",
       "    .dataframe thead th {\n",
       "        text-align: left;\n",
       "    }\n",
       "\n",
       "    .dataframe tbody tr th {\n",
       "        vertical-align: top;\n",
       "    }\n",
       "</style>\n",
       "<table border=\"1\" class=\"dataframe\">\n",
       "  <thead>\n",
       "    <tr style=\"text-align: right;\">\n",
       "      <th></th>\n",
       "      <th>Pclass</th>\n",
       "      <th>Age</th>\n",
       "      <th>SibSp</th>\n",
       "      <th>Parch</th>\n",
       "      <th>Fare</th>\n",
       "    </tr>\n",
       "  </thead>\n",
       "  <tbody>\n",
       "    <tr>\n",
       "      <th>0</th>\n",
       "      <td>3</td>\n",
       "      <td>22.0</td>\n",
       "      <td>1</td>\n",
       "      <td>0</td>\n",
       "      <td>7.2500</td>\n",
       "    </tr>\n",
       "    <tr>\n",
       "      <th>1</th>\n",
       "      <td>1</td>\n",
       "      <td>38.0</td>\n",
       "      <td>1</td>\n",
       "      <td>0</td>\n",
       "      <td>71.2833</td>\n",
       "    </tr>\n",
       "    <tr>\n",
       "      <th>2</th>\n",
       "      <td>3</td>\n",
       "      <td>26.0</td>\n",
       "      <td>0</td>\n",
       "      <td>0</td>\n",
       "      <td>7.9250</td>\n",
       "    </tr>\n",
       "    <tr>\n",
       "      <th>3</th>\n",
       "      <td>1</td>\n",
       "      <td>35.0</td>\n",
       "      <td>1</td>\n",
       "      <td>0</td>\n",
       "      <td>53.1000</td>\n",
       "    </tr>\n",
       "    <tr>\n",
       "      <th>4</th>\n",
       "      <td>3</td>\n",
       "      <td>35.0</td>\n",
       "      <td>0</td>\n",
       "      <td>0</td>\n",
       "      <td>8.0500</td>\n",
       "    </tr>\n",
       "  </tbody>\n",
       "</table>\n",
       "</div>"
      ],
      "text/plain": [
       "   Pclass   Age  SibSp  Parch     Fare\n",
       "0       3  22.0      1      0   7.2500\n",
       "1       1  38.0      1      0  71.2833\n",
       "2       3  26.0      0      0   7.9250\n",
       "3       1  35.0      1      0  53.1000\n",
       "4       3  35.0      0      0   8.0500"
      ]
     },
     "execution_count": 4,
     "metadata": {},
     "output_type": "execute_result"
    }
   ],
   "source": [
    "real_data = titanic_data[['Pclass', 'Age', 'SibSp', 'Parch', 'Fare']]\n",
    "real_data.head()"
   ]
  },
  {
   "cell_type": "markdown",
   "metadata": {},
   "source": [
    "### Tips:\n",
    "> - 本来であれば適当な処理を施すことで名義尺度を（Idや名前等)も順序尺度する（そういった処理が要らない学習器もある：決定木）\n",
    "> - [名義尺度、順序尺度、間隔尺度、比率尺度](https://mathwords.net/syakudo)"
   ]
  },
  {
   "cell_type": "code",
   "execution_count": 5,
   "metadata": {
    "collapsed": true
   },
   "outputs": [],
   "source": [
    "#numpy.array型で乗客のでデータと生存情報を置く\n",
    "real_values = real_data.values\n",
    "survived_or_not_values = titanic_data['Survived'].values"
   ]
  },
  {
   "cell_type": "markdown",
   "metadata": {},
   "source": [
    "学習器を学習させるためのデータ（train）と学習器をテストするためのデータ（test）に分ける\n",
    "- このとき、trainとtestにデータの偏りが起こらないようにランダムに分割する"
   ]
  },
  {
   "cell_type": "code",
   "execution_count": 6,
   "metadata": {},
   "outputs": [],
   "source": [
    "#ランダムに分割するためのランダムなインデックスを用意\n",
    "shuffle_index = np.arange(real_values.shape[0])\n",
    "np.random.seed(1919) #乱数のシードを1919に固定（通常は要らない。講義の都合上必要）\n",
    "np.random.shuffle(shuffle_index)\n",
    "\n",
    "train_length = 500 #学習データの大きさ\n",
    "x_train, x_test = real_values[shuffle_index[:train_length]], real_values[shuffle_index[train_length:]]\n",
    "t_train, t_test = survived_or_not_values[shuffle_index[:train_length]], survived_or_not_values[shuffle_index[train_length:]]"
   ]
  },
  {
   "cell_type": "markdown",
   "metadata": {},
   "source": [
    "## B.サポートベクトルマシン（SVM）"
   ]
  },
  {
   "cell_type": "markdown",
   "metadata": {},
   "source": [
    "<img src=\"http://datachemeng.com/wp-content/uploads/2017/06/SnapCrab_2017-6-23_16-29-54_No-00.png\" width=\"640px\" \"SVM\">"
   ]
  },
  {
   "cell_type": "code",
   "execution_count": 7,
   "metadata": {},
   "outputs": [
    {
     "data": {
      "text/plain": [
       "SVC(C=1.0, cache_size=200, class_weight=None, coef0=0.0,\n",
       "  decision_function_shape=None, degree=3, gamma='auto', kernel='rbf',\n",
       "  max_iter=-1, probability=False, random_state=0, shrinking=True,\n",
       "  tol=0.001, verbose=False)"
      ]
     },
     "execution_count": 7,
     "metadata": {},
     "output_type": "execute_result"
    }
   ],
   "source": [
    "from sklearn.svm import SVC\n",
    "svm = SVC(random_state=0)  # SVMの学習器を用意\n",
    "svm.fit(x_train, t_train)# 学習データを学習"
   ]
  },
  {
   "cell_type": "markdown",
   "metadata": {},
   "source": [
    "実はさまざまなパラメータがデフォルトとして指定されている"
   ]
  },
  {
   "cell_type": "code",
   "execution_count": 8,
   "metadata": {},
   "outputs": [
    {
     "name": "stdout",
     "output_type": "stream",
     "text": [
      "             precision    recall  f1-score   support\n",
      "\n",
      "          0       0.69      0.73      0.71       124\n",
      "          1       0.59      0.54      0.57        90\n",
      "\n",
      "avg / total       0.65      0.65      0.65       214\n",
      "\n",
      "accuracy: 0.64953271028\n"
     ]
    }
   ],
   "source": [
    "y = svm.predict(x_test)\n",
    "R  = sklearn.metrics.classification_report(y, t_test)\n",
    "a = sklearn.metrics.accuracy_score(t_test, y)\n",
    "print(R)\n",
    "print('accuracy:', a)"
   ]
  },
  {
   "cell_type": "markdown",
   "metadata": {},
   "source": [
    "Positive(=1)のデータを対象した場合 Negativeの場合はNとPを反転  [wikipedia precision and recall](https://en.wikipedia.org/wiki/Precision_and_recall)"
   ]
  },
  {
   "cell_type": "markdown",
   "metadata": {},
   "source": [
    "$Precision =  \\frac{TP}{TP + FP} \\\\\n",
    "Recall =  \\frac{TP}{TP + FN} \\\\\n",
    "F =  2\\frac{Precision*Recall}{Precision + Recall}$ "
   ]
  },
  {
   "cell_type": "markdown",
   "metadata": {},
   "source": [
    "## C.ランダムフォレスト（RF）"
   ]
  },
  {
   "cell_type": "markdown",
   "metadata": {},
   "source": [
    "<img src=\"https://alphaimpact.jp/assets/2017/03/random_forest.png\" width=\"640px\" \"RF\">"
   ]
  },
  {
   "cell_type": "code",
   "execution_count": 9,
   "metadata": {},
   "outputs": [
    {
     "data": {
      "text/plain": [
       "RandomForestClassifier(bootstrap=True, class_weight=None, criterion='gini',\n",
       "            max_depth=None, max_features='auto', max_leaf_nodes=None,\n",
       "            min_impurity_split=1e-07, min_samples_leaf=1,\n",
       "            min_samples_split=2, min_weight_fraction_leaf=0.0,\n",
       "            n_estimators=10, n_jobs=1, oob_score=False, random_state=0,\n",
       "            verbose=0, warm_start=False)"
      ]
     },
     "execution_count": 9,
     "metadata": {},
     "output_type": "execute_result"
    }
   ],
   "source": [
    "from sklearn.ensemble import RandomForestClassifier\n",
    "rf = RandomForestClassifier(random_state=0)  # RFの学習器を用意\n",
    "rf.fit(x_train, t_train)# 学習データを学習"
   ]
  },
  {
   "cell_type": "code",
   "execution_count": 10,
   "metadata": {},
   "outputs": [
    {
     "name": "stdout",
     "output_type": "stream",
     "text": [
      "             precision    recall  f1-score   support\n",
      "\n",
      "          0       0.73      0.73      0.73       132\n",
      "          1       0.57      0.57      0.57        82\n",
      "\n",
      "avg / total       0.67      0.67      0.67       214\n",
      "\n",
      "accuracy: 0.668224299065\n"
     ]
    }
   ],
   "source": [
    "y = rf.predict(x_test)\n",
    "R  = sklearn.metrics.classification_report(y, t_test)\n",
    "a = sklearn.metrics.accuracy_score(t_test, y)\n",
    "print(R)\n",
    "print('accuracy:', a)"
   ]
  },
  {
   "cell_type": "markdown",
   "metadata": {},
   "source": [
    "## D.ニューラルネット（N.N）"
   ]
  },
  {
   "cell_type": "markdown",
   "metadata": {},
   "source": [
    "<img src=\"https://alphaimpact.jp/assets/2017/05/multilayer_perceptron.png\", width=\"480px\" \"2 Layer Perceptron\">"
   ]
  },
  {
   "cell_type": "code",
   "execution_count": 11,
   "metadata": {
    "scrolled": true
   },
   "outputs": [
    {
     "data": {
      "text/plain": [
       "MLPClassifier(activation='relu', alpha=0.0001, batch_size='auto', beta_1=0.9,\n",
       "       beta_2=0.999, early_stopping=False, epsilon=1e-08,\n",
       "       hidden_layer_sizes=(100,), learning_rate='constant',\n",
       "       learning_rate_init=0.001, max_iter=200, momentum=0.9,\n",
       "       nesterovs_momentum=True, power_t=0.5, random_state=0, shuffle=True,\n",
       "       solver='adam', tol=0.0001, validation_fraction=0.1, verbose=False,\n",
       "       warm_start=False)"
      ]
     },
     "execution_count": 11,
     "metadata": {},
     "output_type": "execute_result"
    }
   ],
   "source": [
    "from sklearn.neural_network import MLPClassifier\n",
    "nn = MLPClassifier(random_state=0)\n",
    "nn.fit(x_train, t_train)"
   ]
  },
  {
   "cell_type": "code",
   "execution_count": 12,
   "metadata": {},
   "outputs": [
    {
     "name": "stdout",
     "output_type": "stream",
     "text": [
      "             precision    recall  f1-score   support\n",
      "\n",
      "          0       0.80      0.63      0.71       166\n",
      "          1       0.27      0.46      0.34        48\n",
      "\n",
      "avg / total       0.68      0.59      0.62       214\n",
      "\n",
      "accuracy: 0.593457943925\n"
     ]
    }
   ],
   "source": [
    "y = nn.predict(x_test)\n",
    "R  = sklearn.metrics.classification_report(y, t_test)\n",
    "a = sklearn.metrics.accuracy_score(t_test, y)\n",
    "print(R)\n",
    "print('accuracy:', a)"
   ]
  },
  {
   "cell_type": "markdown",
   "metadata": {},
   "source": [
    "## E.学習器の出力の相関"
   ]
  },
  {
   "cell_type": "code",
   "execution_count": 13,
   "metadata": {
    "collapsed": true
   },
   "outputs": [],
   "source": [
    "clf_list = [svm, rf, nn]\n",
    "y_list = []\n",
    "for clf in clf_list:\n",
    "    y_list.append(clf.predict(x_test))\n",
    "y_list = np.array(y_list)"
   ]
  },
  {
   "cell_type": "markdown",
   "metadata": {},
   "source": [
    "それぞれの学習器判定の関係性について見てみる"
   ]
  },
  {
   "cell_type": "code",
   "execution_count": 14,
   "metadata": {
    "collapsed": true
   },
   "outputs": [],
   "source": [
    "def kuraberu(a, b, name_a, name_b):\n",
    "    result = []\n",
    "    print(name_b+'|'+name_a+'\\t0\\t1')\n",
    "    print('0\\t{}\\t{}\\t{}'.format((b[a==0]==0).sum(), (b[a==1]==0).sum(), (b==0).sum()))\n",
    "    print('1\\t{}\\t{}\\t{}'.format((b[a==0]==1).sum(), (b[a==1]==1).sum(), (b==1).sum()))\n",
    "    print('\\t{}\\t{}\\t{}'.format((a==0).sum(), (a==1).sum(), a.shape[0]))"
   ]
  },
  {
   "cell_type": "markdown",
   "metadata": {},
   "source": [
    "SVM と RF"
   ]
  },
  {
   "cell_type": "code",
   "execution_count": 15,
   "metadata": {},
   "outputs": [
    {
     "name": "stdout",
     "output_type": "stream",
     "text": [
      "rf|svm\t0\t1\n",
      "0\t103\t29\t132\n",
      "1\t21\t61\t82\n",
      "\t124\t90\t214\n",
      "相関 0.516253896248\n"
     ]
    }
   ],
   "source": [
    "kuraberu(y_list[0], y_list[1], 'svm', 'rf')\n",
    "print('相関', np.corrcoef(y_list[0], y_list[1])[0,1])"
   ]
  },
  {
   "cell_type": "markdown",
   "metadata": {},
   "source": [
    "SVM と N.N"
   ]
  },
  {
   "cell_type": "code",
   "execution_count": 16,
   "metadata": {},
   "outputs": [
    {
     "name": "stdout",
     "output_type": "stream",
     "text": [
      "nn|svm\t0\t1\n",
      "0\t105\t61\t166\n",
      "1\t19\t29\t48\n",
      "\t124\t90\t214\n",
      "相関 0.200002271618\n"
     ]
    }
   ],
   "source": [
    "kuraberu(y_list[0], y_list[2], 'svm', 'nn') \n",
    "print('相関', np.corrcoef(y_list[0], y_list[2])[0,1])"
   ]
  },
  {
   "cell_type": "markdown",
   "metadata": {},
   "source": [
    "RF と N.N"
   ]
  },
  {
   "cell_type": "code",
   "execution_count": 17,
   "metadata": {},
   "outputs": [
    {
     "name": "stdout",
     "output_type": "stream",
     "text": [
      "nn|rf\t0\t1\n",
      "0\t112\t54\t166\n",
      "1\t20\t28\t48\n",
      "\t132\t82\t214\n",
      "相関 0.221388244133\n"
     ]
    }
   ],
   "source": [
    "kuraberu(y_list[1], y_list[2], 'rf', 'nn')\n",
    "print('相関', np.corrcoef(y_list[1], y_list[2])[0,1])"
   ]
  },
  {
   "cell_type": "markdown",
   "metadata": {},
   "source": [
    "### アンサンブル学習\n",
    "様々な「独立な」学習器を集めて、多数決を取ることで全体としての精度を向上させようという考え方"
   ]
  },
  {
   "cell_type": "code",
   "execution_count": 18,
   "metadata": {},
   "outputs": [
    {
     "name": "stdout",
     "output_type": "stream",
     "text": [
      "             precision    recall  f1-score   support\n",
      "\n",
      "          0       0.79      0.74      0.76       140\n",
      "          1       0.55      0.62      0.59        74\n",
      "\n",
      "avg / total       0.71      0.70      0.70       214\n",
      "\n",
      "accuracy: 0.696261682243\n"
     ]
    }
   ],
   "source": [
    "y = (y_list.sum(axis=0) > 1).astype(np.int) #３つの学習器の多数決を取る\n",
    "R  = sklearn.metrics.classification_report(y, t_test)\n",
    "a = sklearn.metrics.accuracy_score(t_test, y)\n",
    "print(R)\n",
    "print('accuracy:', a)"
   ]
  },
  {
   "cell_type": "markdown",
   "metadata": {},
   "source": [
    "「独立な」学習器を構成できていないため精度の向上は見られなかった"
   ]
  },
  {
   "cell_type": "markdown",
   "metadata": {},
   "source": [
    "## 課題\n",
    "ナイーブベイズ（NB）、決定木（DT）、K近傍法（KNN）を上の学習器同様に学習させ、それぞれについて評価する"
   ]
  },
  {
   "cell_type": "markdown",
   "metadata": {},
   "source": [
    "ヒントは[hints.txt](./hints.txt)にあります。"
   ]
  },
  {
   "cell_type": "code",
   "execution_count": 19,
   "metadata": {},
   "outputs": [
    {
     "name": "stdout",
     "output_type": "stream",
     "text": [
      "KNeighborsClassifier\n",
      "             precision    recall  f1-score   support\n",
      "\n",
      "          0       0.70      0.73      0.72       126\n",
      "          1       0.59      0.56      0.57        88\n",
      "\n",
      "avg / total       0.66      0.66      0.66       214\n",
      "\n",
      "accuracy: 0.658878504673 \n",
      "------------------------------------------------------------\n",
      "DecisionTreeClassifier\n",
      "             precision    recall  f1-score   support\n",
      "\n",
      "          0       0.71      0.68      0.69       137\n",
      "          1       0.47      0.51      0.49        77\n",
      "\n",
      "avg / total       0.62      0.62      0.62       214\n",
      "\n",
      "accuracy: 0.616822429907 \n",
      "------------------------------------------------------------\n",
      "GaussianNB\n",
      "             precision    recall  f1-score   support\n",
      "\n",
      "          0       0.80      0.70      0.75       150\n",
      "          1       0.46      0.59      0.52        64\n",
      "\n",
      "avg / total       0.70      0.67      0.68       214\n",
      "\n",
      "accuracy: 0.668224299065 \n",
      "------------------------------------------------------------\n",
      "アセンブル学習\n",
      "             precision    recall  f1-score   support\n",
      "\n",
      "          0       0.79      0.73      0.76       141\n",
      "          1       0.54      0.62      0.58        73\n",
      "\n",
      "avg / total       0.70      0.69      0.70       214\n",
      "\n",
      "accuracy: 0.691588785047\n"
     ]
    }
   ],
   "source": [
    "from sklearn.neighbors import KNeighborsClassifier #K近傍法\n",
    "from sklearn.tree import DecisionTreeClassifier #決定木\n",
    "from sklearn.naive_bayes import GaussianNB #ナイーブベイズ\n",
    "\n",
    "clf_list = [KNeighborsClassifier,  DecisionTreeClassifier, GaussianNB]\n",
    "clf_name = ['KNeighborsClassifier', 'DecisionTreeClassifier', 'GaussianNB']\n",
    "y_list_for_exercises = []\n",
    "for f, name in zip(clf_list, clf_name):\n",
    "    print(name)\n",
    "    clf = f().fit(x_train, t_train)\n",
    "    y = clf.predict(x_test)\n",
    "    y_list_for_exercises.append(y)\n",
    "    R  = sklearn.metrics.classification_report(y, t_test)\n",
    "    a = sklearn.metrics.accuracy_score(t_test, y)\n",
    "    print(R)\n",
    "    print('accuracy:', a, '\\n------------------------------------------------------------')\n",
    "\n",
    "y_list_for_exercises = np.array(y_list_for_exercises)\n",
    "y = (y_list_for_exercises.sum(axis=0) > 1).astype(np.int) #３つの学習器の多数決を取る\n",
    "R  = sklearn.metrics.classification_report(y, t_test)\n",
    "a = sklearn.metrics.accuracy_score(t_test, y)\n",
    "print('アセンブル学習')\n",
    "print(R)\n",
    "print('accuracy:', a)"
   ]
  },
  {
   "cell_type": "markdown",
   "metadata": {},
   "source": [
    "実際にsklearnを使って実装を行いたいときは次の図を参考に選択すると良い<img src=\"http://scikit-learn.org/stable/_static/ml_map.png\" widht=\"640px\">"
   ]
  },
  {
   "cell_type": "markdown",
   "metadata": {},
   "source": [
    "# 3.学習器の特性"
   ]
  },
  {
   "cell_type": "markdown",
   "metadata": {},
   "source": [
    "### Tips:\n",
    ">3章はsklearnのドキュメントである[このページ](http://scikit-learn.org/stable/auto_examples/classification/plot_classifier_comparison.html)に準拠して作成した。sklearnのドキュメントは他にも様々な学習器が紹介されている上、学習器を実装するに当たっての引数の意味から例まで至れり尽くせりである。"
   ]
  },
  {
   "cell_type": "markdown",
   "metadata": {},
   "source": [
    "実はさまざまなパラメータがデフォルトとして指定されていて、この項ではそのパラメータ（**ハイパーパラメータ**）を変化させてその挙動を確かめる"
   ]
  },
  {
   "cell_type": "markdown",
   "metadata": {},
   "source": [
    "### Tips:\n",
    "> 機械学習を扱う上で「パラメータ」は頻発するワードだ。そのなかでも学習器自身が自動で獲得するものではなく、人の手で指定しなけばいけないものを他と区別して**ハイパーパラメータ**と呼ぶ。"
   ]
  },
  {
   "cell_type": "markdown",
   "metadata": {},
   "source": [
    "ここからはランダムに作成したデータを学習させて学習器の特性を見ていく"
   ]
  },
  {
   "cell_type": "markdown",
   "metadata": {},
   "source": [
    "## A. データを用意（生成データ）"
   ]
  },
  {
   "cell_type": "code",
   "execution_count": 20,
   "metadata": {
    "collapsed": true
   },
   "outputs": [],
   "source": [
    "from sklearn.datasets import make_moons, make_circles, make_classification"
   ]
  },
  {
   "cell_type": "code",
   "execution_count": 21,
   "metadata": {},
   "outputs": [
    {
     "data": {
      "image/png": "[encoded data removed]",
      "text/plain": [
       "<matplotlib.figure.Figure at 0x7f7f3804cf98>"
      ]
     },
     "metadata": {},
     "output_type": "display_data"
    },
    {
     "data": {
      "image/png": "[encoded data removed]",
      "text/plain": [
       "<matplotlib.figure.Figure at 0x7f7f32439780>"
      ]
     },
     "metadata": {},
     "output_type": "display_data"
    },
    {
     "data": {
      "image/png": "[encoded data removed]",
      "text/plain": [
       "<matplotlib.figure.Figure at 0x7f7f32371b70>"
      ]
     },
     "metadata": {},
     "output_type": "display_data"
    }
   ],
   "source": [
    "moon_data = make_moons(noise=0.3, random_state=0)\n",
    "circle_data = make_circles(noise=0.2, factor=0.5, random_state=1)\n",
    "class_data = make_classification(n_features=2, n_redundant=0, n_informative=2,\n",
    "                           random_state=1, n_clusters_per_class=1)\n",
    "datasets = [moon_data,\n",
    "            circle_data,\n",
    "            class_data\n",
    "            ]\n",
    "names = ['moon', 'circle', 'class']\n",
    "for d,name in zip(datasets, names):\n",
    "    X, t = d\n",
    "    plt.scatter(X[:,0], X[:,1], c = t)\n",
    "    plt.title(name)\n",
    "    plt.colorbar()\n",
    "    plt.show()"
   ]
  },
  {
   "cell_type": "markdown",
   "metadata": {},
   "source": [
    "学習器の特性を可視化するための関数（詳細を見る必要はない）"
   ]
  },
  {
   "cell_type": "code",
   "execution_count": null,
   "metadata": {
    "collapsed": true
   },
   "outputs": [],
   "source": [
    "moon_data = make_moons(noise=0.3, random_state=0)\n",
    "circle_data = make_circles(noise=0.2, factor=0.5, random_state=1)\n",
    "class_data = make_classification(n_features=2, n_redundant=0, n_informative=2,\n",
    "                           random_state=1, n_clusters_per_class=1)\n",
    "datasets = [moon_data,\n",
    "            circle_data,\n",
    "            class_data\n",
    "            ]\n",
    "names = ['moon', 'circle', 'class']\n",
    "def show_character_ML(clf):\n",
    "    for d, name in zip(datasets, names):\n",
    "        X, t = d\n",
    "        clf.fit(X, t)# 学習データを学習\n",
    "        x = np.linspace(X[:,0].min()-.5, X[:,0].max() +.5, 100)\n",
    "        y = np.linspace(X[:,1].min()-.5, X[:,1].max() +.5, 100)\n",
    "        xx, yy = np.meshgrid(x, y)\n",
    "        grid = np.c_[xx.ravel(), yy.ravel()]\n",
    "        if hasattr(clf, \"decision_function\"):\n",
    "            plt.contourf(xx, yy, clf.decision_function(grid).reshape(xx.shape))\n",
    "        else:\n",
    "            plt.contourf(xx, yy, clf.predict_proba(grid)[:, 1].reshape(xx.shape))\n",
    "        plt.scatter(X[:,0], X[:,1], c = t)\n",
    "        plt.title(name)\n",
    "        plt.colorbar()\n",
    "        plt.show()"
   ]
  },
  {
   "cell_type": "markdown",
   "metadata": {},
   "source": [
    "## B. サポートベクトルマシン(SVM)"
   ]
  },
  {
   "cell_type": "markdown",
   "metadata": {},
   "source": [
    "まずはデフォルトのままの挙動を見てみる"
   ]
  },
  {
   "cell_type": "code",
   "execution_count": null,
   "metadata": {},
   "outputs": [
    {
     "data": {
      "image/png": "[encoded data removed]",
      "text/plain": [
       "<matplotlib.figure.Figure at 0x7f7f320ebf98>"
      ]
     },
     "metadata": {},
     "output_type": "display_data"
    },
    {
     "data": {
      "image/png": "[encoded data removed]",
      "text/plain": [
       "<matplotlib.figure.Figure at 0x7f7f323280f0>"
      ]
     },
     "metadata": {},
     "output_type": "display_data"
    }
   ],
   "source": [
    "show_character_ML(SVC(random_state=0))"
   ]
  },
  {
   "cell_type": "markdown",
   "metadata": {},
   "source": [
    "### SVMの基本：カーネル関数"
   ]
  },
  {
   "cell_type": "markdown",
   "metadata": {},
   "source": [
    "カーネル関数を用いない（線形なカーネル関数を使う）場合のSVMの挙動"
   ]
  },
  {
   "cell_type": "code",
   "execution_count": null,
   "metadata": {},
   "outputs": [],
   "source": [
    "show_character_ML(SVC(random_state=0, kernel='linear'))"
   ]
  },
  {
   "cell_type": "markdown",
   "metadata": {},
   "source": [
    "実はSVMは超平面（2次元上の線、3次元上の面）で分割をしており、カーネル関数を通さないときは上のようなまっすぐな分離以外出来ない"
   ]
  },
  {
   "cell_type": "markdown",
   "metadata": {},
   "source": [
    "次に、まっすぐな分離しか出来ないSVMにカーネル関数を与えることでグニャグニャした（非線形な）分離を可能にさせる。ここで、登場するのが係数gammaである"
   ]
  },
  {
   "cell_type": "markdown",
   "metadata": {},
   "source": [
    "### gammaを変化させてみる"
   ]
  },
  {
   "cell_type": "code",
   "execution_count": null,
   "metadata": {
    "scrolled": false
   },
   "outputs": [],
   "source": [
    "for gamma in [1e-5, 1e+0]:\n",
    "    print('gamma=',gamma)\n",
    "    show_character_ML(SVC(random_state=0 ,gamma=gamma))"
   ]
  },
  {
   "cell_type": "markdown",
   "metadata": {},
   "source": [
    "詳細は[ここ](http://scikit-learn.org/stable/modules/svm.html#svm-kernels)を見ること、gammaの増加にともなって非線形な識別が強くなっている"
   ]
  },
  {
   "cell_type": "markdown",
   "metadata": {},
   "source": [
    "### Tips:\n",
    "> SVMではカーネル関数として大概RBF(ラジアル基底関数)を使えば良いということになっている。実際、sklearnの実装でも初期値はRBFを使うことになっている、RBFはガウス関数と同じ形状をしていて、事実上、無限次元にサンプル点を写像したあとに線形SVMで分離した場合と等価である"
   ]
  },
  {
   "cell_type": "markdown",
   "metadata": {},
   "source": [
    "## C. ランダムフォレスト(RF)"
   ]
  },
  {
   "cell_type": "markdown",
   "metadata": {},
   "source": [
    "例によって、まずはデフォルトのまま見てみる"
   ]
  },
  {
   "cell_type": "code",
   "execution_count": null,
   "metadata": {
    "scrolled": false
   },
   "outputs": [],
   "source": [
    "show_character_ML(RandomForestClassifier(random_state=0))"
   ]
  },
  {
   "cell_type": "markdown",
   "metadata": {},
   "source": [
    "SVMと異なりカクカクした形状の分類をしているのが分かる。これはRFの用いる[決定木](http://scikit-learn.org/stable/modules/tree.html)の性質によるものだ"
   ]
  },
  {
   "cell_type": "markdown",
   "metadata": {},
   "source": [
    "つぎにmax_depthを変えて、その変化を見る"
   ]
  },
  {
   "cell_type": "code",
   "execution_count": null,
   "metadata": {
    "scrolled": false
   },
   "outputs": [],
   "source": [
    "for dep in [1, 2, 4]:\n",
    "    print('max_depth=',dep)\n",
    "    show_character_ML(RandomForestClassifier(random_state=0, max_depth=dep))"
   ]
  },
  {
   "cell_type": "markdown",
   "metadata": {},
   "source": [
    "max_depthが大きいほど学習データに過度に沿った形を表現していることが分かる"
   ]
  },
  {
   "cell_type": "markdown",
   "metadata": {},
   "source": [
    "実はランダムフォレストは先に紹介した**アンサンブル学習**の１つの応用例である。[決定木](http://scikit-learn.org/stable/modules/tree.html)という学習器を複数（初期値では10個）作って、その多数決を取っている。ここではその決定木の深さの最大値であるmax_depthを変化させた"
   ]
  },
  {
   "cell_type": "markdown",
   "metadata": {},
   "source": [
    "## D. ニューラルネット(NN)"
   ]
  },
  {
   "cell_type": "markdown",
   "metadata": {},
   "source": [
    "デフォルトでの性質を見てみる"
   ]
  },
  {
   "cell_type": "code",
   "execution_count": null,
   "metadata": {},
   "outputs": [],
   "source": [
    "show_character_ML(MLPClassifier(random_state=0))"
   ]
  },
  {
   "cell_type": "markdown",
   "metadata": {},
   "source": [
    "次に、活性化関数(activation)を変えて見る"
   ]
  },
  {
   "cell_type": "code",
   "execution_count": null,
   "metadata": {
    "scrolled": false
   },
   "outputs": [],
   "source": [
    "for act_f in ['identity','logistic', 'tanh', 'relu']:\n",
    "    print('activation=', act_f)\n",
    "    show_character_ML(MLPClassifier(random_state=0, activation=act_f))"
   ]
  },
  {
   "cell_type": "markdown",
   "metadata": {},
   "source": [
    "活性化関数とはニューラルネットのそれぞれのニューロンの出力に用いる関数のことである。詳しくは[活性化関数](https://ja.wikipedia.org/wiki/%E6%B4%BB%E6%80%A7%E5%8C%96%E9%96%A2%E6%95%B0)を参照してほしい"
   ]
  },
  {
   "cell_type": "markdown",
   "metadata": {},
   "source": [
    "### Tips:\n",
    "> 活性化関数logisticはsigmoid（シグモイド）とも呼ぶ。多くの文献ではlogisticではなくsigmoidを用いるのでこちらも覚えて置くほうが良い"
   ]
  },
  {
   "cell_type": "markdown",
   "metadata": {},
   "source": [
    "ここで、活性化関数をそれぞれ見ていこう（[ここ](http://scikit-learn.org/stable/modules/generated/sklearn.neural_network.MLPClassifier.html#sklearn.neural_network.MLPClassifier)のactivationに書いてある）"
   ]
  },
  {
   "cell_type": "code",
   "execution_count": null,
   "metadata": {},
   "outputs": [],
   "source": [
    "def identity(x):\n",
    "    return x\n",
    "def logistic(x):\n",
    "    return 1/(1+np.exp(-x))\n",
    "def tanh(x):\n",
    "    return np.tanh(x)\n",
    "def relu(x):\n",
    "    _filter = x > 0\n",
    "    return _filter*x\n",
    "X = np.arange(-5, 5, 0.01)\n",
    "for f,name in zip([identity, logistic, tanh, relu], ['identity', 'logistic', 'tanh','relu']):\n",
    "    plt.plot(X, f(X))\n",
    "    plt.title(name)\n",
    "    plt.show()"
   ]
  },
  {
   "cell_type": "markdown",
   "metadata": {},
   "source": [
    "どれも単純な形をしており、それほど理解も難しくないだろう。reluという名前はニューラルネット独特ではあるが、これは制御工学でも出て来るランプ関数にほかならない。"
   ]
  },
  {
   "cell_type": "markdown",
   "metadata": {},
   "source": [
    "また、logisticやtanhは似た形を持っているが、歴史的に元は活性化関数がステップ関数を用いていたことに由来している"
   ]
  },
  {
   "cell_type": "code",
   "execution_count": null,
   "metadata": {},
   "outputs": [],
   "source": [
    "def step(x):\n",
    "    return (x > 0).astype(np.int)\n",
    "X = np.arange(-5, 5, 0.01)\n",
    "plt.plot(X, step(X))\n",
    "plt.title('step')\n",
    "plt.show()"
   ]
  },
  {
   "cell_type": "markdown",
   "metadata": {},
   "source": [
    "2015年に[この論文中](https://www.nature.com/articles/nature14539)でReluを使うことが最善であると報告され、今ではRelu以外の活性化関数を使うことは少なくなってきた。（sklearnの初期値もreluを使っている）しかし、依然tanhなどの活性化関数を使う用途も存在する。[Why using sigmoid and tanh as the activation functions in LSTM or RNN is not problematic but this is not the case in other neural nets?](https://www.quora.com/Why-using-sigmoid-and-tanh-as-the-activation-functions-in-LSTM-or-RNN-is-not-problematic-but-this-is-not-the-case-in-other-neural-nets)"
   ]
  },
  {
   "cell_type": "markdown",
   "metadata": {},
   "source": [
    "「なぜこの活性化関数が良いのか」という知見はまだ経験則以上のものはなく、「Reluは勾配消失を抑制するから」などとよく説明されるが、将来的にReluがこのまま使われる保証は今のところない"
   ]
  },
  {
   "cell_type": "markdown",
   "metadata": {},
   "source": [
    "### Tips:\n",
    "> ニューラルネットと一言で言ってもその言葉が指す学習器は無限大にある。今回実装したのはその中でも2層パーセプトロンである。ニューラルネットは知っての通り、脳のニューロンの働きを真似たところに由来しており、要はその真似さえしていればみんなニューラルネットである。だから、「AI」などと同様「ニューラルネット」という単語は世間のためのバズワードとしての側面が強い。ニューラルネットには代表的なものとして、CNN（Convolution NN)、RNN（Reccurent NN)といったもはや要素扱いのものや、それを組み合わせてできた実際の実装例であるAlexNetなどがある。\n",
    "このように、ニューラルネットという言葉に惹かれて色々と勘違いしかねない状況なので、注意してほしい。"
   ]
  },
  {
   "cell_type": "markdown",
   "metadata": {},
   "source": [
    "# おわりに"
   ]
  },
  {
   "cell_type": "markdown",
   "metadata": {},
   "source": [
    "見ての通り、機械学習の実装はかなり簡単である。ライブラリを使ってしまえばほぼどのような学習器も数行で実装できる。（ただし、ニューラルネットに関してはChainer, TensorFlowなどのsklearnでないライブラリを用いるのがその学習の都合上普通である）しかし、では頭を空っぽにして使っていいかというとそうではない。そんな使い方を研究ですればたちまち質問攻めに合い、炎上すること間違いなしだ。（そういう学生が多くいるということだ）なんでも良いからというと変だが、何かしらの論理的な説明が必要になることは多々あるはずだ。そういうときに、この講義で得た知識が役立つはずである。"
   ]
  },
  {
   "cell_type": "markdown",
   "metadata": {},
   "source": [
    "もちろん、この講義だけで機械学習の全てがわかる訳がない。機械学習の一部も一部でしかなく、より広い学習が今後必要だろう。しかし、機械学習へ何も前提知識を持たないとやれ「ドラえもん」だの「シュワルツネッガー」などが出てくる。こんな先入観はとりあえず取り払えたと思う。"
   ]
  },
  {
   "cell_type": "markdown",
   "metadata": {},
   "source": [
    "今回は、「機械学習を正しく使用する知識の獲得」を目的として、学習器のさまざまな特性を眺めてきた。機械学習をつかうにあたって"
   ]
  },
  {
   "cell_type": "markdown",
   "metadata": {},
   "source": [
    "- どの学習器を使うべきか\n",
    "- どのようにパラメータを選択すべきか"
   ]
  },
  {
   "cell_type": "markdown",
   "metadata": {},
   "source": [
    "はどの機械学習を扱う研究でも立ち会う問題である。選択の方法もまた様々あるが、つまるところココが研究者の腕の見せどころ、すなわち「勘」に依存しているのはなんとも言えないところではある。"
   ]
  },
  {
   "cell_type": "markdown",
   "metadata": {},
   "source": [
    "実際、機械学習を使うにあたってはこの講義で習得した内容だけではかなり無理がある。例えば、機械学習では学習したいデータから**特徴量**と呼ばれる機械学習にとって都合の良い情報に変換する段階があるが、今回は一切触れなかった。これは、特徴量抽出が直接的に機械学習器の特性を示すものではなく、どちらかというと事務的な手続きや、それぞれの現象への物理的、あるいは経験的アプローチになるためで、これだけで分野ごとに本が出るほど内容が濃く、説明のきりがないためだ。他にも時系列を扱うような機械学習器などもあるが、それも省いた。これらは各自で学んでほしい。"
   ]
  },
  {
   "cell_type": "markdown",
   "metadata": {
    "collapsed": true
   },
   "source": [
    "最後に、この講義でわからなかったことはどんどん聞いてほしい。質問大歓迎！お待ちしてます"
   ]
  }
 ],
 "metadata": {
  "kernelspec": {
   "display_name": "Python 3",
   "language": "python",
   "name": "python3"
  },
  "language_info": {
   "codemirror_mode": {
    "name": "ipython",
    "version": 3
   },
   "file_extension": ".py",
   "mimetype": "text/x-python",
   "name": "python",
   "nbconvert_exporter": "python",
   "pygments_lexer": "ipython3",
   "version": "3.6.1"
  }
 },
 "nbformat": 4,
 "nbformat_minor": 2
}
